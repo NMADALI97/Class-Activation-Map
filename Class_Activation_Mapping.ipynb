{
  "nbformat": 4,
  "nbformat_minor": 0,
  "metadata": {
    "colab": {
      "name": "Class Activation Mapping.ipynb",
      "provenance": [],
      "collapsed_sections": []
    },
    "kernelspec": {
      "name": "python3",
      "display_name": "Python 3"
    },
    "accelerator": "GPU"
  },
  "cells": [
    {
      "cell_type": "code",
      "metadata": {
        "id": "auniLO8nPqGn",
        "colab_type": "code",
        "colab": {}
      },
      "source": [
        "\n",
        "!gdown  https://drive.google.com/uc?id=1fpT0vqOrDDxiTKrlrdlf2_PZRfBFuHxP\n",
        "\n",
        "!unzip dogs-vs-cats-for-pytorch.zip\n",
        "\n"
      ],
      "execution_count": 0,
      "outputs": []
    },
    {
      "cell_type": "code",
      "metadata": {
        "id": "Nh3hRqjiP5fW",
        "colab_type": "code",
        "colab": {}
      },
      "source": [
        "import torch, os\n",
        "from torch.utils.data import Dataset,DataLoader\n",
        "from torchvision import datasets, transforms"
      ],
      "execution_count": 0,
      "outputs": []
    },
    {
      "cell_type": "code",
      "metadata": {
        "id": "nm-qH-wMQAcY",
        "colab_type": "code",
        "colab": {}
      },
      "source": [
        "# prepare data\n",
        "\n",
        "BATCH_SIZE      = 32\n",
        "IMG_SIZE        = 224\n",
        "\n",
        "normalize = transforms.Normalize(\n",
        "        mean=[0.485, 0.456, 0.406],\n",
        "        std=[0.229, 0.224, 0.225]\n",
        ")\n",
        "\n",
        "transform_train = transforms.Compose([\n",
        "    transforms.RandomResizedCrop(224),\n",
        "    transforms.RandomHorizontalFlip(),\n",
        "    transforms.ToTensor(),\n",
        "    normalize\n",
        "])\n",
        "\n",
        "\n",
        "\n",
        "transform_test = transforms.Compose([\n",
        "    transforms.Resize(256),\n",
        "    transforms.CenterCrop(224),\n",
        "    transforms.ToTensor(),\n",
        "    normalize\n",
        "])\n",
        "\n",
        "train_data = datasets.ImageFolder('cat_dog_data/Cat_Dog_data/train', transform=transform_train)\n",
        "trainloader = DataLoader(train_data, batch_size=BATCH_SIZE, shuffle=True, num_workers=2)\n",
        "\n",
        "test_data = datasets.ImageFolder('cat_dog_data/Cat_Dog_data/test', transform=transform_test)\n",
        "testloader = DataLoader(test_data, batch_size=BATCH_SIZE, shuffle=False, num_workers=2)"
      ],
      "execution_count": 0,
      "outputs": []
    },
    {
      "cell_type": "code",
      "metadata": {
        "id": "WJYCM13KT4qN",
        "colab_type": "code",
        "colab": {}
      },
      "source": [
        "\n",
        "from inception import inception_v3\n",
        "\n",
        "# class\n",
        "classes = {0: 'cat', 1: 'dog'}\n",
        "\n",
        "net = inception_v3(pretrained=False, num_classes=len(classes))\n",
        "final_conv = 'Mixed_7c'\n",
        "\n",
        "net.cuda()"
      ],
      "execution_count": 0,
      "outputs": []
    },
    {
      "cell_type": "code",
      "metadata": {
        "id": "ZExAFyCcUUZw",
        "colab_type": "code",
        "colab": {}
      },
      "source": [
        "from train import *\n",
        "LEARNING_RATE   = 0.01\n",
        "EPOCH           = 20\n",
        "USE_CUDA=True\n",
        "# retrain\n",
        "criterion = torch.nn.CrossEntropyLoss()\n",
        "optimizer = torch.optim.SGD(net.parameters(), lr=LEARNING_RATE, momentum=0.9, weight_decay=5e-4)\n",
        "\n",
        "\n",
        "\n",
        "for epoch in range (1, EPOCH + 1):\n",
        "  for batch_idx, (data, target) in enumerate(trainloader):\n",
        "        data, target = data.cuda(), target.cuda()\n",
        "        data, target = Variable(data), Variable(target)\n",
        "        optimizer.zero_grad()\n",
        "        output = model(data)\n",
        "        break\n"
      ],
      "execution_count": 0,
      "outputs": []
    },
    {
      "cell_type": "code",
      "metadata": {
        "id": "emiDR04TU61f",
        "colab_type": "code",
        "colab": {}
      },
      "source": [
        "# hook the feature extractor\n",
        "features_blobs = []\n",
        "\n",
        "def hook_feature(module, input, output):\n",
        "    features_blobs.append(output.data.cpu().numpy())\n",
        "\n",
        "net._modules.get(final_conv).register_forward_hook(hook_feature)\n",
        "\n",
        "\n",
        "# CAM\n",
        "if CAM:\n",
        "    root = 'sample.jpg'\n",
        "    img = Image.open(root)\n",
        "    get_cam(net, features_blobs, img, classes, root)"
      ],
      "execution_count": 0,
      "outputs": []
    }
  ]
}